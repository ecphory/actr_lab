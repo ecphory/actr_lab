{
  "cells": [
    {
      "cell_type": "markdown",
      "metadata": {
        "id": "lpG_7DDAWlUj"
      },
      "source": [
        "# Exercise 3.3\n",
        "\n",
        "Our frog has found itself in a new and strange environment: its own home! Even this simple environment poses a challenge for our frog's existing behaviour. All of the flies are in the pantry, and it's locked, and furthermore, the frog doesn't even know how to pick up a key. Let's help it!"
      ]
    },
    {
      "cell_type": "markdown",
      "metadata": {
        "id": "1El9KwZsWdtR"
      },
      "source": [
        "### First, Install the Lab Libraries"
      ]
    },
    {
      "cell_type": "code",
      "execution_count": null,
      "metadata": {
        "colab": {
          "base_uri": "https://localhost:8080/"
        },
        "id": "U0ufN5NzV2rk",
        "outputId": "079b10c1-7098-49df-fc2d-fed372162bdf"
      },
      "outputs": [
        {
          "output_type": "stream",
          "name": "stdout",
          "text": [
            "Collecting git+https://github.com/eilene-ftf/pondworld.git\n",
            "  Cloning https://github.com/eilene-ftf/pondworld.git to /tmp/pip-req-build-d2zsgd1t\n",
            "  Running command git clone --filter=blob:none --quiet https://github.com/eilene-ftf/pondworld.git /tmp/pip-req-build-d2zsgd1t\n",
            "  Resolved https://github.com/eilene-ftf/pondworld.git to commit 7aa712ff4d7ad0034d2e95090831542552845893\n",
            "  Preparing metadata (setup.py) ... \u001b[?25l\u001b[?25hdone\n",
            "Requirement already satisfied: python_actr in /usr/local/lib/python3.10/dist-packages (1.9.2)\n",
            "Requirement already satisfied: gymnasium in /usr/local/lib/python3.10/dist-packages (from pondworld==0.0.38) (0.29.1)\n",
            "Requirement already satisfied: numpy in /usr/local/lib/python3.10/dist-packages (from pondworld==0.0.38) (1.26.4)\n",
            "Requirement already satisfied: cairosvg in /usr/local/lib/python3.10/dist-packages (from pondworld==0.0.38) (2.7.1)\n",
            "Requirement already satisfied: opencv-python in /usr/local/lib/python3.10/dist-packages (from pondworld==0.0.38) (4.10.0.84)\n",
            "Requirement already satisfied: minigrid==2.1.1 in /usr/local/lib/python3.10/dist-packages (from pondworld==0.0.38) (2.1.1)\n",
            "Requirement already satisfied: tk in /usr/local/lib/python3.10/dist-packages (from pondworld==0.0.38) (0.1.0)\n",
            "Requirement already satisfied: ipympl in /usr/local/lib/python3.10/dist-packages (from pondworld==0.0.38) (0.9.4)\n",
            "Requirement already satisfied: matplotlib>=3.0 in /usr/local/lib/python3.10/dist-packages (from minigrid==2.1.1->pondworld==0.0.38) (3.7.1)\n",
            "Requirement already satisfied: cloudpickle>=1.2.0 in /usr/local/lib/python3.10/dist-packages (from gymnasium->pondworld==0.0.38) (2.2.1)\n",
            "Requirement already satisfied: typing-extensions>=4.3.0 in /usr/local/lib/python3.10/dist-packages (from gymnasium->pondworld==0.0.38) (4.12.2)\n",
            "Requirement already satisfied: farama-notifications>=0.0.1 in /usr/local/lib/python3.10/dist-packages (from gymnasium->pondworld==0.0.38) (0.0.4)\n",
            "Requirement already satisfied: cairocffi in /usr/local/lib/python3.10/dist-packages (from cairosvg->pondworld==0.0.38) (1.7.1)\n",
            "Requirement already satisfied: cssselect2 in /usr/local/lib/python3.10/dist-packages (from cairosvg->pondworld==0.0.38) (0.7.0)\n",
            "Requirement already satisfied: defusedxml in /usr/local/lib/python3.10/dist-packages (from cairosvg->pondworld==0.0.38) (0.7.1)\n",
            "Requirement already satisfied: pillow in /usr/local/lib/python3.10/dist-packages (from cairosvg->pondworld==0.0.38) (10.4.0)\n",
            "Requirement already satisfied: tinycss2 in /usr/local/lib/python3.10/dist-packages (from cairosvg->pondworld==0.0.38) (1.3.0)\n",
            "Requirement already satisfied: ipython-genutils in /usr/local/lib/python3.10/dist-packages (from ipympl->pondworld==0.0.38) (0.2.0)\n",
            "Requirement already satisfied: ipython<9 in /usr/local/lib/python3.10/dist-packages (from ipympl->pondworld==0.0.38) (7.34.0)\n",
            "Requirement already satisfied: ipywidgets<9,>=7.6.0 in /usr/local/lib/python3.10/dist-packages (from ipympl->pondworld==0.0.38) (7.7.1)\n",
            "Requirement already satisfied: traitlets<6 in /usr/local/lib/python3.10/dist-packages (from ipympl->pondworld==0.0.38) (5.7.1)\n",
            "Requirement already satisfied: setuptools>=18.5 in /usr/local/lib/python3.10/dist-packages (from ipython<9->ipympl->pondworld==0.0.38) (71.0.4)\n",
            "Requirement already satisfied: jedi>=0.16 in /usr/local/lib/python3.10/dist-packages (from ipython<9->ipympl->pondworld==0.0.38) (0.19.1)\n",
            "Requirement already satisfied: decorator in /usr/local/lib/python3.10/dist-packages (from ipython<9->ipympl->pondworld==0.0.38) (4.4.2)\n",
            "Requirement already satisfied: pickleshare in /usr/local/lib/python3.10/dist-packages (from ipython<9->ipympl->pondworld==0.0.38) (0.7.5)\n",
            "Requirement already satisfied: prompt-toolkit!=3.0.0,!=3.0.1,<3.1.0,>=2.0.0 in /usr/local/lib/python3.10/dist-packages (from ipython<9->ipympl->pondworld==0.0.38) (3.0.47)\n",
            "Requirement already satisfied: pygments in /usr/local/lib/python3.10/dist-packages (from ipython<9->ipympl->pondworld==0.0.38) (2.18.0)\n",
            "Requirement already satisfied: backcall in /usr/local/lib/python3.10/dist-packages (from ipython<9->ipympl->pondworld==0.0.38) (0.2.0)\n",
            "Requirement already satisfied: matplotlib-inline in /usr/local/lib/python3.10/dist-packages (from ipython<9->ipympl->pondworld==0.0.38) (0.1.7)\n",
            "Requirement already satisfied: pexpect>4.3 in /usr/local/lib/python3.10/dist-packages (from ipython<9->ipympl->pondworld==0.0.38) (4.9.0)\n",
            "Requirement already satisfied: ipykernel>=4.5.1 in /usr/local/lib/python3.10/dist-packages (from ipywidgets<9,>=7.6.0->ipympl->pondworld==0.0.38) (5.5.6)\n",
            "Requirement already satisfied: widgetsnbextension~=3.6.0 in /usr/local/lib/python3.10/dist-packages (from ipywidgets<9,>=7.6.0->ipympl->pondworld==0.0.38) (3.6.9)\n",
            "Requirement already satisfied: jupyterlab-widgets>=1.0.0 in /usr/local/lib/python3.10/dist-packages (from ipywidgets<9,>=7.6.0->ipympl->pondworld==0.0.38) (3.0.13)\n",
            "Requirement already satisfied: contourpy>=1.0.1 in /usr/local/lib/python3.10/dist-packages (from matplotlib>=3.0->minigrid==2.1.1->pondworld==0.0.38) (1.3.0)\n",
            "Requirement already satisfied: cycler>=0.10 in /usr/local/lib/python3.10/dist-packages (from matplotlib>=3.0->minigrid==2.1.1->pondworld==0.0.38) (0.12.1)\n",
            "Requirement already satisfied: fonttools>=4.22.0 in /usr/local/lib/python3.10/dist-packages (from matplotlib>=3.0->minigrid==2.1.1->pondworld==0.0.38) (4.53.1)\n",
            "Requirement already satisfied: kiwisolver>=1.0.1 in /usr/local/lib/python3.10/dist-packages (from matplotlib>=3.0->minigrid==2.1.1->pondworld==0.0.38) (1.4.7)\n",
            "Requirement already satisfied: packaging>=20.0 in /usr/local/lib/python3.10/dist-packages (from matplotlib>=3.0->minigrid==2.1.1->pondworld==0.0.38) (24.1)\n",
            "Requirement already satisfied: pyparsing>=2.3.1 in /usr/local/lib/python3.10/dist-packages (from matplotlib>=3.0->minigrid==2.1.1->pondworld==0.0.38) (3.1.4)\n",
            "Requirement already satisfied: python-dateutil>=2.7 in /usr/local/lib/python3.10/dist-packages (from matplotlib>=3.0->minigrid==2.1.1->pondworld==0.0.38) (2.8.2)\n",
            "Requirement already satisfied: cffi>=1.1.0 in /usr/local/lib/python3.10/dist-packages (from cairocffi->cairosvg->pondworld==0.0.38) (1.17.1)\n",
            "Requirement already satisfied: webencodings in /usr/local/lib/python3.10/dist-packages (from cssselect2->cairosvg->pondworld==0.0.38) (0.5.1)\n",
            "Requirement already satisfied: pycparser in /usr/local/lib/python3.10/dist-packages (from cffi>=1.1.0->cairocffi->cairosvg->pondworld==0.0.38) (2.22)\n",
            "Requirement already satisfied: jupyter-client in /usr/local/lib/python3.10/dist-packages (from ipykernel>=4.5.1->ipywidgets<9,>=7.6.0->ipympl->pondworld==0.0.38) (6.1.12)\n",
            "Requirement already satisfied: tornado>=4.2 in /usr/local/lib/python3.10/dist-packages (from ipykernel>=4.5.1->ipywidgets<9,>=7.6.0->ipympl->pondworld==0.0.38) (6.3.3)\n",
            "Requirement already satisfied: parso<0.9.0,>=0.8.3 in /usr/local/lib/python3.10/dist-packages (from jedi>=0.16->ipython<9->ipympl->pondworld==0.0.38) (0.8.4)\n",
            "Requirement already satisfied: ptyprocess>=0.5 in /usr/local/lib/python3.10/dist-packages (from pexpect>4.3->ipython<9->ipympl->pondworld==0.0.38) (0.7.0)\n",
            "Requirement already satisfied: wcwidth in /usr/local/lib/python3.10/dist-packages (from prompt-toolkit!=3.0.0,!=3.0.1,<3.1.0,>=2.0.0->ipython<9->ipympl->pondworld==0.0.38) (0.2.13)\n",
            "Requirement already satisfied: six>=1.5 in /usr/local/lib/python3.10/dist-packages (from python-dateutil>=2.7->matplotlib>=3.0->minigrid==2.1.1->pondworld==0.0.38) (1.16.0)\n",
            "Requirement already satisfied: notebook>=4.4.1 in /usr/local/lib/python3.10/dist-packages (from widgetsnbextension~=3.6.0->ipywidgets<9,>=7.6.0->ipympl->pondworld==0.0.38) (6.5.5)\n",
            "Requirement already satisfied: jinja2 in /usr/local/lib/python3.10/dist-packages (from notebook>=4.4.1->widgetsnbextension~=3.6.0->ipywidgets<9,>=7.6.0->ipympl->pondworld==0.0.38) (3.1.4)\n",
            "Requirement already satisfied: pyzmq<25,>=17 in /usr/local/lib/python3.10/dist-packages (from notebook>=4.4.1->widgetsnbextension~=3.6.0->ipywidgets<9,>=7.6.0->ipympl->pondworld==0.0.38) (24.0.1)\n",
            "Requirement already satisfied: argon2-cffi in /usr/local/lib/python3.10/dist-packages (from notebook>=4.4.1->widgetsnbextension~=3.6.0->ipywidgets<9,>=7.6.0->ipympl->pondworld==0.0.38) (23.1.0)\n",
            "Requirement already satisfied: jupyter-core>=4.6.1 in /usr/local/lib/python3.10/dist-packages (from notebook>=4.4.1->widgetsnbextension~=3.6.0->ipywidgets<9,>=7.6.0->ipympl->pondworld==0.0.38) (5.7.2)\n",
            "Requirement already satisfied: nbformat in /usr/local/lib/python3.10/dist-packages (from notebook>=4.4.1->widgetsnbextension~=3.6.0->ipywidgets<9,>=7.6.0->ipympl->pondworld==0.0.38) (5.10.4)\n",
            "Requirement already satisfied: nbconvert>=5 in /usr/local/lib/python3.10/dist-packages (from notebook>=4.4.1->widgetsnbextension~=3.6.0->ipywidgets<9,>=7.6.0->ipympl->pondworld==0.0.38) (6.5.4)\n",
            "Requirement already satisfied: nest-asyncio>=1.5 in /usr/local/lib/python3.10/dist-packages (from notebook>=4.4.1->widgetsnbextension~=3.6.0->ipywidgets<9,>=7.6.0->ipympl->pondworld==0.0.38) (1.6.0)\n",
            "Requirement already satisfied: Send2Trash>=1.8.0 in /usr/local/lib/python3.10/dist-packages (from notebook>=4.4.1->widgetsnbextension~=3.6.0->ipywidgets<9,>=7.6.0->ipympl->pondworld==0.0.38) (1.8.3)\n",
            "Requirement already satisfied: terminado>=0.8.3 in /usr/local/lib/python3.10/dist-packages (from notebook>=4.4.1->widgetsnbextension~=3.6.0->ipywidgets<9,>=7.6.0->ipympl->pondworld==0.0.38) (0.18.1)\n",
            "Requirement already satisfied: prometheus-client in /usr/local/lib/python3.10/dist-packages (from notebook>=4.4.1->widgetsnbextension~=3.6.0->ipywidgets<9,>=7.6.0->ipympl->pondworld==0.0.38) (0.20.0)\n",
            "Requirement already satisfied: nbclassic>=0.4.7 in /usr/local/lib/python3.10/dist-packages (from notebook>=4.4.1->widgetsnbextension~=3.6.0->ipywidgets<9,>=7.6.0->ipympl->pondworld==0.0.38) (1.1.0)\n",
            "Requirement already satisfied: platformdirs>=2.5 in /usr/local/lib/python3.10/dist-packages (from jupyter-core>=4.6.1->notebook>=4.4.1->widgetsnbextension~=3.6.0->ipywidgets<9,>=7.6.0->ipympl->pondworld==0.0.38) (4.3.6)\n",
            "Requirement already satisfied: notebook-shim>=0.2.3 in /usr/local/lib/python3.10/dist-packages (from nbclassic>=0.4.7->notebook>=4.4.1->widgetsnbextension~=3.6.0->ipywidgets<9,>=7.6.0->ipympl->pondworld==0.0.38) (0.2.4)\n",
            "Requirement already satisfied: lxml in /usr/local/lib/python3.10/dist-packages (from nbconvert>=5->notebook>=4.4.1->widgetsnbextension~=3.6.0->ipywidgets<9,>=7.6.0->ipympl->pondworld==0.0.38) (4.9.4)\n",
            "Requirement already satisfied: beautifulsoup4 in /usr/local/lib/python3.10/dist-packages (from nbconvert>=5->notebook>=4.4.1->widgetsnbextension~=3.6.0->ipywidgets<9,>=7.6.0->ipympl->pondworld==0.0.38) (4.12.3)\n",
            "Requirement already satisfied: bleach in /usr/local/lib/python3.10/dist-packages (from nbconvert>=5->notebook>=4.4.1->widgetsnbextension~=3.6.0->ipywidgets<9,>=7.6.0->ipympl->pondworld==0.0.38) (6.1.0)\n",
            "Requirement already satisfied: entrypoints>=0.2.2 in /usr/local/lib/python3.10/dist-packages (from nbconvert>=5->notebook>=4.4.1->widgetsnbextension~=3.6.0->ipywidgets<9,>=7.6.0->ipympl->pondworld==0.0.38) (0.4)\n",
            "Requirement already satisfied: jupyterlab-pygments in /usr/local/lib/python3.10/dist-packages (from nbconvert>=5->notebook>=4.4.1->widgetsnbextension~=3.6.0->ipywidgets<9,>=7.6.0->ipympl->pondworld==0.0.38) (0.3.0)\n",
            "Requirement already satisfied: MarkupSafe>=2.0 in /usr/local/lib/python3.10/dist-packages (from nbconvert>=5->notebook>=4.4.1->widgetsnbextension~=3.6.0->ipywidgets<9,>=7.6.0->ipympl->pondworld==0.0.38) (2.1.5)\n",
            "Requirement already satisfied: mistune<2,>=0.8.1 in /usr/local/lib/python3.10/dist-packages (from nbconvert>=5->notebook>=4.4.1->widgetsnbextension~=3.6.0->ipywidgets<9,>=7.6.0->ipympl->pondworld==0.0.38) (0.8.4)\n",
            "Requirement already satisfied: nbclient>=0.5.0 in /usr/local/lib/python3.10/dist-packages (from nbconvert>=5->notebook>=4.4.1->widgetsnbextension~=3.6.0->ipywidgets<9,>=7.6.0->ipympl->pondworld==0.0.38) (0.10.0)\n",
            "Requirement already satisfied: pandocfilters>=1.4.1 in /usr/local/lib/python3.10/dist-packages (from nbconvert>=5->notebook>=4.4.1->widgetsnbextension~=3.6.0->ipywidgets<9,>=7.6.0->ipympl->pondworld==0.0.38) (1.5.1)\n",
            "Requirement already satisfied: fastjsonschema>=2.15 in /usr/local/lib/python3.10/dist-packages (from nbformat->notebook>=4.4.1->widgetsnbextension~=3.6.0->ipywidgets<9,>=7.6.0->ipympl->pondworld==0.0.38) (2.20.0)\n",
            "Requirement already satisfied: jsonschema>=2.6 in /usr/local/lib/python3.10/dist-packages (from nbformat->notebook>=4.4.1->widgetsnbextension~=3.6.0->ipywidgets<9,>=7.6.0->ipympl->pondworld==0.0.38) (4.23.0)\n",
            "Requirement already satisfied: argon2-cffi-bindings in /usr/local/lib/python3.10/dist-packages (from argon2-cffi->notebook>=4.4.1->widgetsnbextension~=3.6.0->ipywidgets<9,>=7.6.0->ipympl->pondworld==0.0.38) (21.2.0)\n",
            "Requirement already satisfied: attrs>=22.2.0 in /usr/local/lib/python3.10/dist-packages (from jsonschema>=2.6->nbformat->notebook>=4.4.1->widgetsnbextension~=3.6.0->ipywidgets<9,>=7.6.0->ipympl->pondworld==0.0.38) (24.2.0)\n",
            "Requirement already satisfied: jsonschema-specifications>=2023.03.6 in /usr/local/lib/python3.10/dist-packages (from jsonschema>=2.6->nbformat->notebook>=4.4.1->widgetsnbextension~=3.6.0->ipywidgets<9,>=7.6.0->ipympl->pondworld==0.0.38) (2023.12.1)\n",
            "Requirement already satisfied: referencing>=0.28.4 in /usr/local/lib/python3.10/dist-packages (from jsonschema>=2.6->nbformat->notebook>=4.4.1->widgetsnbextension~=3.6.0->ipywidgets<9,>=7.6.0->ipympl->pondworld==0.0.38) (0.35.1)\n",
            "Requirement already satisfied: rpds-py>=0.7.1 in /usr/local/lib/python3.10/dist-packages (from jsonschema>=2.6->nbformat->notebook>=4.4.1->widgetsnbextension~=3.6.0->ipywidgets<9,>=7.6.0->ipympl->pondworld==0.0.38) (0.20.0)\n",
            "Requirement already satisfied: jupyter-server<3,>=1.8 in /usr/local/lib/python3.10/dist-packages (from notebook-shim>=0.2.3->nbclassic>=0.4.7->notebook>=4.4.1->widgetsnbextension~=3.6.0->ipywidgets<9,>=7.6.0->ipympl->pondworld==0.0.38) (1.24.0)\n",
            "Requirement already satisfied: soupsieve>1.2 in /usr/local/lib/python3.10/dist-packages (from beautifulsoup4->nbconvert>=5->notebook>=4.4.1->widgetsnbextension~=3.6.0->ipywidgets<9,>=7.6.0->ipympl->pondworld==0.0.38) (2.6)\n",
            "Requirement already satisfied: anyio<4,>=3.1.0 in /usr/local/lib/python3.10/dist-packages (from jupyter-server<3,>=1.8->notebook-shim>=0.2.3->nbclassic>=0.4.7->notebook>=4.4.1->widgetsnbextension~=3.6.0->ipywidgets<9,>=7.6.0->ipympl->pondworld==0.0.38) (3.7.1)\n",
            "Requirement already satisfied: websocket-client in /usr/local/lib/python3.10/dist-packages (from jupyter-server<3,>=1.8->notebook-shim>=0.2.3->nbclassic>=0.4.7->notebook>=4.4.1->widgetsnbextension~=3.6.0->ipywidgets<9,>=7.6.0->ipympl->pondworld==0.0.38) (1.8.0)\n",
            "Requirement already satisfied: idna>=2.8 in /usr/local/lib/python3.10/dist-packages (from anyio<4,>=3.1.0->jupyter-server<3,>=1.8->notebook-shim>=0.2.3->nbclassic>=0.4.7->notebook>=4.4.1->widgetsnbextension~=3.6.0->ipywidgets<9,>=7.6.0->ipympl->pondworld==0.0.38) (3.10)\n",
            "Requirement already satisfied: sniffio>=1.1 in /usr/local/lib/python3.10/dist-packages (from anyio<4,>=3.1.0->jupyter-server<3,>=1.8->notebook-shim>=0.2.3->nbclassic>=0.4.7->notebook>=4.4.1->widgetsnbextension~=3.6.0->ipywidgets<9,>=7.6.0->ipympl->pondworld==0.0.38) (1.3.1)\n",
            "Requirement already satisfied: exceptiongroup in /usr/local/lib/python3.10/dist-packages (from anyio<4,>=3.1.0->jupyter-server<3,>=1.8->notebook-shim>=0.2.3->nbclassic>=0.4.7->notebook>=4.4.1->widgetsnbextension~=3.6.0->ipywidgets<9,>=7.6.0->ipympl->pondworld==0.0.38) (1.2.2)\n"
          ]
        }
      ],
      "source": [
        "%pip install python_actr git+https://github.com/eilene-ftf/pondworld.git"
      ]
    },
    {
      "cell_type": "markdown",
      "metadata": {
        "id": "GGUIKISlW2r6"
      },
      "source": [
        "### Second, Import the Necessary Libraries"
      ]
    },
    {
      "cell_type": "code",
      "execution_count": null,
      "metadata": {
        "id": "M7q5qVRDW-ff"
      },
      "outputs": [],
      "source": [
        "import gymnasium as gym\n",
        "from minigrid.minigrid_env import MiniGridEnv\n",
        "\n",
        "import pondworld\n",
        "from pondworld import FrogControl, EnvState\n",
        "\n",
        "from python_actr import Model, ACTR, Buffer, Memory, log_everything\n",
        "\n",
        "from IPython.display import clear_output\n",
        "\n",
        "import time"
      ]
    },
    {
      "cell_type": "markdown",
      "metadata": {
        "id": "T15Dbre3XDLI"
      },
      "source": [
        "### The Pond\n",
        "\n",
        "**Don't forget to run this bit!**"
      ]
    },
    {
      "cell_type": "code",
      "execution_count": null,
      "metadata": {
        "id": "5nWnNQhsbHN4"
      },
      "outputs": [],
      "source": [
        "class Pond(Model):\n",
        "    pass"
      ]
    },
    {
      "cell_type": "markdown",
      "metadata": {
        "id": "oe6CuXp0bNWy"
      },
      "source": [
        "### The Frog\n",
        "\n",
        "Now that you're comfortable with the mental world of the frog, we're going to try to tell the frog what to do about getting into that pantry. The door is locked, and our frog's left a key somewhere around the house. As it cannot open the door without a key, the first thing to do is get the key. Try running the code first to see what's happening in the frog's world, and then go look at your task."
      ]
    },
    {
      "cell_type": "code",
      "execution_count": null,
      "metadata": {
        "id": "BAaiGpAsb-t9"
      },
      "outputs": [],
      "source": [
        "# create our frog's brain\n",
        "class FrogMind(ACTR):\n",
        "    # give our frog a buffer that holds information\n",
        "    # let's call this buffer \"vision\". it represents what the frog is seeing.\n",
        "    vision=Buffer()\n",
        "\n",
        "    # here we're going to set what the frog is seeing right at the moment\n",
        "    # initially we don't know what the frog is looking at\n",
        "    vision.set('unknown')\n",
        "\n",
        "    # \"possibilities\" has been replaced with a set of slot names, corresponding\n",
        "    # to the three items the frog might track in its world, and a set of values,\n",
        "    # corresponding to what states those items might be in\n",
        "    slots = [\"fly\", \"key\", \"door\"]\n",
        "    values = [\"nowhere\", \"here\", \"ahead\", \"left\", \"right\", \"held\"]\n",
        "\n",
        "    # also, we're keeping track of all the things the frog can do\n",
        "    # you never know when you might need them\n",
        "    actions = [\"forward\", \"left\", \"right\", \"interact\", \"pickup\"]\n",
        "\n",
        "    ######\n",
        "    # THE BASICS\n",
        "\n",
        "    # look to see if there's any flies\n",
        "    def look(vision='unknown'):\n",
        "        self.wait(0.3) # adds a rest between steps so we can see what's going on\n",
        "        self.parent.clear() # makes sure only the most recent output is shown\n",
        "        observation = self.parent.frog_body.look()  # now, when it looks,\n",
        "                                                    # the frog will get a\n",
        "                                                    # collection of several\n",
        "                                                    # items\n",
        "\n",
        "        # This creates a list of 'slot:value' pairs, using what's\n",
        "        # contained in observation\n",
        "        new_memory = []\n",
        "        for slot in slots:\n",
        "            val_index = observation[slot]   # gets a number indicating the state\n",
        "                                            # of the object called 'slot'\n",
        "            value = values[val_index]       # then looks it up\n",
        "            new_memory.append(f'{slot}:{value}') # and adds it to\n",
        "\n",
        "        updated = ' '.join(new_memory)  # make the contents of new_memory into a\n",
        "                                        # string ACT-R can understand\n",
        "        print('what the frog sees: \\n  ' + updated)\n",
        "        vision.set(updated)\n",
        "\n",
        "    # if you see a fly, eat a fly\n",
        "    def eat_fly(vision='fly:here'):\n",
        "        print(\"The frog spits out its tongue and snaps up the fly.\")\n",
        "        result = self.parent.frog_body.move(\"interact\")\n",
        "        if result.terminated:\n",
        "          vision.set('done') # the frog has satisfied its hunger\n",
        "        else:\n",
        "          vision.set('unknown')\n",
        "\n",
        "    ######\n",
        "    # EXPLORATION\n",
        "\n",
        "    # if you don't see a fly try looking left\n",
        "    def explore_left(vision=\"fly:nowhere\"):\n",
        "        print(\"The frog explores left.\")\n",
        "        self.parent.frog_body.move(\"left\")\n",
        "        vision.set('unknown')\n",
        "\n",
        "    # if you don't see a fly try hopping forward\n",
        "    def explore_forward(vision=\"fly:nowhere\"):\n",
        "        print(\"The frog explores forward.\")\n",
        "        self.parent.frog_body.move(\"forward\")\n",
        "        vision.set('unknown')\n",
        "\n",
        "    ######\n",
        "    # CHASE THE FLY\n",
        "\n",
        "    # if fly is to the left, turn left\n",
        "    def turn_left_fly(vision=\"fly:left\"):\n",
        "        print(\"The frog turns left.\")\n",
        "        self.parent.frog_body.move(\"left\")\n",
        "        vision.set('unknown')\n",
        "\n",
        "    # if fly is to the right, turn right\n",
        "    def turn_right_fly(vision=\"fly:right\"):\n",
        "        print(\"The frog turns right.\")\n",
        "        self.parent.frog_body.move(\"right\")\n",
        "        vision.set('unknown')\n",
        "\n",
        "    # if you see something in the distance trying hopping forward\n",
        "    def hop_forward_fly(vision=\"fly:ahead\"):\n",
        "        print(\"The frog hops forward.\")\n",
        "        self.parent.frog_body.move(\"forward\")\n",
        "        vision.set('unknown')\n",
        "\n",
        "\n",
        "    ######\n",
        "    # GRAB THE KEY - PUT FOUR NEW PRODUCTIONS HERE\n",
        "\n",
        "\n",
        "    ######\n",
        "    # END STATE\n",
        "\n",
        "    # when all the flies are eaten, it's time to stop and rest\n",
        "    def end(vision='done'):\n",
        "        print(\"The frog is full.\")\n",
        "        self.stop()"
      ]
    },
    {
      "cell_type": "markdown",
      "metadata": {
        "id": "JBSON9LphA-b"
      },
      "source": [
        "### Your Task\n",
        "\n",
        "Here, your goal is to **add new productions** to the frog, such that it behaves with the **key** a little bit like it behaves with the **flies**. When the frog sees the key, it should go straight there, and try to pick it up. There is one key difference, however: you're going to teach the frog to pick up its key. **Add this production to the frog**:\n",
        "\n",
        "```py\n",
        "def pickup_key(vision='key:here'):\n",
        "    print('The frog picks up the key to the pantry.')\n",
        "    self.parent.frog_body.move('pickup')\n",
        "    vision.set('unknown')\n",
        "```\n",
        "\n",
        "Instead of using `'interact'`, picking up a key uses the `'pickup'` command. Pretty sensible, but you'll want to see what happens to `vision` after the frog has picked up the key. In order to (reliably) see what the frog does, **add three more productions**, based on the frog's behaviour when it sees a fly, that **make the frog go to a key when it sees one, in order to pick it up**.\n",
        "\n",
        "There is one more thing you need to change in order to make this all work consistently. In order for the frog to dependably go to the key and pick it up, it must **not** choose to explore when it sees the key. Therefore, **the exploration productions must only fire when the frog does not see a key**.\n",
        "\n",
        "Recalling that each production rule fires based on a *condition* that you assert when you describe it, **what should you add to the existing condition that will keep the frog from wandering**? Here is an example state vision may be in to help you figure it out:\n",
        "\n",
        "```py\n",
        "'fly:nowhere key:ahead door:left'\n",
        "```\n",
        "\n",
        "There is a print statement that has been added to the frog, it shows the current state of memory. What is different before and after the frog picks up the key?"
      ]
    },
    {
      "cell_type": "markdown",
      "metadata": {
        "id": "mXugZ4jkhiFl"
      },
      "source": [
        "### Run Your Model\n",
        "\n",
        "Make sure everything works by running the code blocks below."
      ]
    },
    {
      "cell_type": "code",
      "execution_count": null,
      "metadata": {
        "id": "RFlGmKZ0hrSt"
      },
      "outputs": [],
      "source": [
        "# Sets up the frog's virtual world\n",
        "env = gym.make(\"house-v0\", tile_size=32, render_mode='rgb_array')\n",
        "# Gives the frog a body in it\n",
        "frog_body = FrogControl(env, textmode=True, emojis=True)\n",
        "# Gets things going!\n",
        "frog_body.start()"
      ]
    },
    {
      "cell_type": "code",
      "execution_count": null,
      "metadata": {
        "colab": {
          "base_uri": "https://localhost:8080/",
          "height": 720
        },
        "id": "FUfNRSyJh8ww",
        "outputId": "b208ac39-09c4-4f6d-f46d-a4990e2432aa"
      },
      "outputs": [
        {
          "output_type": "stream",
          "name": "stdout",
          "text": [
            "🧱🧱🧱🧱🧱🧱🧱🧱🧱🧱🧱🧱🧱🧱🧱🧱    \n",
            "🧱⬛⬛⬛⬛⬛⬛⬛🧱⬛⬛⬛⬛⬛⬛🧱    \n",
            "🧱⬛⬛⬛⬛⬛⬛⬛🧱⬛⬛⬛⬛⬛⬛🧱    \n",
            "🧱⬛⬛⬛⬛⬛⬛⬛🧱⬛⬛⬛⬛⬛⬛🧱    \n",
            "🧱⬛⬛⬛⬛⬛⬛⬛🧱⬛⬛⬛⬛⬛🟨🧱    \n",
            "🧱⬛⬛🪰⬛⬛⬛⬛🧱⬛⬛⬛⬛⬛🟨🧱    \n",
            "🧱⬛⬛⬛⬛🪰⬛⬛🧱⬛⬛⬛⬛⬛🟨🧱    \n",
            "🧱⬛⬛⬛⬛⬛⬛⬛🧱⬛⬛⬛⬛⬛🐸🧱    \n",
            "🧱⬛⬛⬛⬛⬛⬛⬛🧱⬛⬛⬛⬛⬛🟨🧱    live frog reaction:\n",
            "🧱⬛🪰⬛⬛⬛⬛⬛🧱⬛⬛⬛⬛⬛🟨🧱    ⬛⬛⬛⬛⬛⬛⬛\n",
            "🧱⬛⬛⬛⬛⬛⬛⬛🧱⬛⬛⬛⬛⬛🟨🧱    ⬛⬛⬛⬛⬛⬛⬛\n",
            "🧱🪰⬛⬛⬛⬛🪰⬛🧱⬛⬛⬛⬛🗝️⬛🧱    ⬛⬛⬛⬛⬛⬛⬛\n",
            "🧱⬛⬛⬛🪰⬛⬛⬛🚪⬛⬛⬛⬛⬛⬛🧱    ⬛⬛⬛⬛⬛⬛⬛\n",
            "🧱🪰⬛⬛⬛⬛⬛🪰🧱⬛⬛⬛⬛⬛⬛🧱    ⬛⬛⬛⬛⬛⬛⬛\n",
            "🧱⬛⬛⬛⬛⬛⬛⬛🧱⬛⬛⬛⬛⬛⬛🧱    🧱🧱🧱🧱🧱🧱🧱\n",
            "🧱🧱🧱🧱🧱🧱🧱🧱🧱🧱🧱🧱🧱🧱🧱🧱    🟨🟨🟨🐸🟨🟨🟨\n",
            "eat all the flies\n",
            "frog compass: ➡️\n",
            "what the frog sees: \n",
            "  fly:nowhere key:nowhere door:nowhere\n",
            "The frog explores forward.\n"
          ]
        },
        {
          "output_type": "error",
          "ename": "KeyboardInterrupt",
          "evalue": "",
          "traceback": [
            "\u001b[0;31m---------------------------------------------------------------------------\u001b[0m",
            "\u001b[0;31mKeyboardInterrupt\u001b[0m                         Traceback (most recent call last)",
            "\u001b[0;32m<ipython-input-12-f3a5a16bff6c>\u001b[0m in \u001b[0;36m<cell line: 7>\u001b[0;34m()\u001b[0m\n\u001b[1;32m      5\u001b[0m \u001b[0mparadise_swamp\u001b[0m\u001b[0;34m.\u001b[0m\u001b[0mfrog_body\u001b[0m \u001b[0;34m=\u001b[0m \u001b[0mfrog_body\u001b[0m      \u001b[0;31m# put the frog's body in the environment\u001b[0m\u001b[0;34m\u001b[0m\u001b[0;34m\u001b[0m\u001b[0m\n\u001b[1;32m      6\u001b[0m \u001b[0mparadise_swamp\u001b[0m\u001b[0;34m.\u001b[0m\u001b[0magent\u001b[0m \u001b[0;34m=\u001b[0m \u001b[0mkermit\u001b[0m             \u001b[0;31m# put the frog's brain in the environment\u001b[0m\u001b[0;34m\u001b[0m\u001b[0;34m\u001b[0m\u001b[0m\n\u001b[0;32m----> 7\u001b[0;31m \u001b[0mparadise_swamp\u001b[0m\u001b[0;34m.\u001b[0m\u001b[0mrun\u001b[0m\u001b[0;34m(\u001b[0m\u001b[0;34m)\u001b[0m                      \u001b[0;31m# Annnnd action!\u001b[0m\u001b[0;34m\u001b[0m\u001b[0;34m\u001b[0m\u001b[0m\n\u001b[0m",
            "\u001b[0;32m/usr/local/lib/python3.10/dist-packages/python_actr/model.py\u001b[0m in \u001b[0;36mrun\u001b[0;34m(self, limit, func)\u001b[0m\n\u001b[1;32m    245\u001b[0m         \u001b[0;32mif\u001b[0m \u001b[0mfunc\u001b[0m \u001b[0;32mis\u001b[0m \u001b[0;32mnot\u001b[0m \u001b[0;32mNone\u001b[0m\u001b[0;34m:\u001b[0m\u001b[0;34m\u001b[0m\u001b[0;34m\u001b[0m\u001b[0m\n\u001b[1;32m    246\u001b[0m             \u001b[0mself\u001b[0m\u001b[0;34m.\u001b[0m\u001b[0msch\u001b[0m\u001b[0;34m.\u001b[0m\u001b[0madd\u001b[0m\u001b[0;34m(\u001b[0m\u001b[0mfunc\u001b[0m\u001b[0;34m)\u001b[0m\u001b[0;34m\u001b[0m\u001b[0;34m\u001b[0m\u001b[0m\n\u001b[0;32m--> 247\u001b[0;31m         \u001b[0mself\u001b[0m\u001b[0;34m.\u001b[0m\u001b[0msch\u001b[0m\u001b[0;34m.\u001b[0m\u001b[0mrun\u001b[0m\u001b[0;34m(\u001b[0m\u001b[0;34m)\u001b[0m\u001b[0;34m\u001b[0m\u001b[0;34m\u001b[0m\u001b[0m\n\u001b[0m\u001b[1;32m    248\u001b[0m     \u001b[0;32mdef\u001b[0m \u001b[0mstop\u001b[0m\u001b[0;34m(\u001b[0m\u001b[0mself\u001b[0m\u001b[0;34m)\u001b[0m\u001b[0;34m:\u001b[0m\u001b[0;34m\u001b[0m\u001b[0;34m\u001b[0m\u001b[0m\n\u001b[1;32m    249\u001b[0m         \u001b[0;32mif\u001b[0m \u001b[0;32mnot\u001b[0m \u001b[0mself\u001b[0m\u001b[0;34m.\u001b[0m\u001b[0m__converted\u001b[0m\u001b[0;34m:\u001b[0m\u001b[0;34m\u001b[0m\u001b[0;34m\u001b[0m\u001b[0m\n",
            "\u001b[0;32m/usr/local/lib/python3.10/dist-packages/python_actr/scheduler.py\u001b[0m in \u001b[0;36mrun\u001b[0;34m(self)\u001b[0m\n\u001b[1;32m    114\u001b[0m                 \u001b[0mself\u001b[0m\u001b[0;34m.\u001b[0m\u001b[0mtime\u001b[0m\u001b[0;34m=\u001b[0m\u001b[0mnext\u001b[0m\u001b[0;34m\u001b[0m\u001b[0;34m\u001b[0m\u001b[0m\n\u001b[1;32m    115\u001b[0m                 \u001b[0mself\u001b[0m\u001b[0;34m.\u001b[0m\u001b[0mlog\u001b[0m\u001b[0;34m.\u001b[0m\u001b[0mtime\u001b[0m\u001b[0;34m=\u001b[0m\u001b[0mnext\u001b[0m\u001b[0;34m\u001b[0m\u001b[0;34m\u001b[0m\u001b[0m\n\u001b[0;32m--> 116\u001b[0;31m             \u001b[0mself\u001b[0m\u001b[0;34m.\u001b[0m\u001b[0mdo_event\u001b[0m\u001b[0;34m(\u001b[0m\u001b[0mheapq\u001b[0m\u001b[0;34m.\u001b[0m\u001b[0mheappop\u001b[0m\u001b[0;34m(\u001b[0m\u001b[0mself\u001b[0m\u001b[0;34m.\u001b[0m\u001b[0mqueue\u001b[0m\u001b[0;34m)\u001b[0m\u001b[0;34m)\u001b[0m\u001b[0;34m\u001b[0m\u001b[0;34m\u001b[0m\u001b[0m\n\u001b[0m\u001b[1;32m    117\u001b[0m             \u001b[0;32mwhile\u001b[0m \u001b[0mself\u001b[0m\u001b[0;34m.\u001b[0m\u001b[0mto_be_added\u001b[0m\u001b[0;34m:\u001b[0m\u001b[0;34m\u001b[0m\u001b[0;34m\u001b[0m\u001b[0m\n\u001b[1;32m    118\u001b[0m               \u001b[0mself\u001b[0m\u001b[0;34m.\u001b[0m\u001b[0madd\u001b[0m\u001b[0;34m(\u001b[0m\u001b[0;34m*\u001b[0m\u001b[0mself\u001b[0m\u001b[0;34m.\u001b[0m\u001b[0mto_be_added\u001b[0m\u001b[0;34m.\u001b[0m\u001b[0mpop\u001b[0m\u001b[0;34m(\u001b[0m\u001b[0;34m)\u001b[0m\u001b[0;34m)\u001b[0m\u001b[0;34m\u001b[0m\u001b[0;34m\u001b[0m\u001b[0m\n",
            "\u001b[0;32m/usr/local/lib/python3.10/dist-packages/python_actr/scheduler.py\u001b[0m in \u001b[0;36mdo_event\u001b[0;34m(self, event)\u001b[0m\n\u001b[1;32m    159\u001b[0m \u001b[0;34m\u001b[0m\u001b[0m\n\u001b[1;32m    160\u001b[0m         \u001b[0;32mtry\u001b[0m\u001b[0;34m:\u001b[0m\u001b[0;34m\u001b[0m\u001b[0;34m\u001b[0m\u001b[0m\n\u001b[0;32m--> 161\u001b[0;31m           \u001b[0mresult\u001b[0m\u001b[0;34m=\u001b[0m\u001b[0mevent\u001b[0m\u001b[0;34m.\u001b[0m\u001b[0mfunc\u001b[0m\u001b[0;34m(\u001b[0m\u001b[0;34m*\u001b[0m\u001b[0mevent\u001b[0m\u001b[0;34m.\u001b[0m\u001b[0margs\u001b[0m\u001b[0;34m,\u001b[0m\u001b[0;34m**\u001b[0m\u001b[0mevent\u001b[0m\u001b[0;34m.\u001b[0m\u001b[0mkeys\u001b[0m\u001b[0;34m)\u001b[0m\u001b[0;34m\u001b[0m\u001b[0;34m\u001b[0m\u001b[0m\n\u001b[0m\u001b[1;32m    162\u001b[0m         \u001b[0;32mexcept\u001b[0m \u001b[0mStopIteration\u001b[0m\u001b[0;34m:\u001b[0m\u001b[0;34m\u001b[0m\u001b[0;34m\u001b[0m\u001b[0m\n\u001b[1;32m    163\u001b[0m           \u001b[0mresult\u001b[0m\u001b[0;34m=\u001b[0m\u001b[0;32mNone\u001b[0m\u001b[0;34m\u001b[0m\u001b[0;34m\u001b[0m\u001b[0m\n",
            "\u001b[0;32m/usr/local/lib/python3.10/dist-packages/python_actr/actr/core.py\u001b[0m in \u001b[0;36m_process_productions\u001b[0;34m(self)\u001b[0m\n\u001b[1;32m     55\u001b[0m                   \u001b[0mself\u001b[0m\u001b[0;34m.\u001b[0m\u001b[0mlog\u001b[0m\u001b[0;34m.\u001b[0m\u001b[0mproduction\u001b[0m\u001b[0;34m=\u001b[0m\u001b[0;32mNone\u001b[0m\u001b[0;34m\u001b[0m\u001b[0;34m\u001b[0m\u001b[0m\n\u001b[1;32m     56\u001b[0m                   \u001b[0;31m#self.log.firing=choice.name\u001b[0m\u001b[0;34m\u001b[0m\u001b[0;34m\u001b[0m\u001b[0m\n\u001b[0;32m---> 57\u001b[0;31m                   \u001b[0mchoice\u001b[0m\u001b[0;34m.\u001b[0m\u001b[0mfire\u001b[0m\u001b[0;34m(\u001b[0m\u001b[0mself\u001b[0m\u001b[0;34m.\u001b[0m\u001b[0m_context\u001b[0m\u001b[0;34m)\u001b[0m\u001b[0;34m\u001b[0m\u001b[0;34m\u001b[0m\u001b[0m\n\u001b[0m\u001b[1;32m     58\u001b[0m                   \u001b[0;32myield\u001b[0m \u001b[0mdict\u001b[0m\u001b[0;34m(\u001b[0m\u001b[0mdelay\u001b[0m\u001b[0;34m=\u001b[0m\u001b[0;36m0\u001b[0m\u001b[0;34m,\u001b[0m\u001b[0mpriority\u001b[0m\u001b[0;34m=\u001b[0m\u001b[0;34m-\u001b[0m\u001b[0;36m1000\u001b[0m\u001b[0;34m)\u001b[0m      \u001b[0;31m# delay so we don't try to match again until after the result of production firing has had a chance to occur\u001b[0m\u001b[0;34m\u001b[0m\u001b[0;34m\u001b[0m\u001b[0m\n\u001b[1;32m     59\u001b[0m \u001b[0;34m\u001b[0m\u001b[0m\n",
            "\u001b[0;32m/usr/local/lib/python3.10/dist-packages/python_actr/production.py\u001b[0m in \u001b[0;36mfire\u001b[0;34m(self, context)\u001b[0m\n\u001b[1;32m     47\u001b[0m     \u001b[0;32mdef\u001b[0m \u001b[0mfire\u001b[0m\u001b[0;34m(\u001b[0m\u001b[0mself\u001b[0m\u001b[0;34m,\u001b[0m\u001b[0mcontext\u001b[0m\u001b[0;34m)\u001b[0m\u001b[0;34m:\u001b[0m\u001b[0;34m\u001b[0m\u001b[0;34m\u001b[0m\u001b[0m\n\u001b[1;32m     48\u001b[0m         \u001b[0mself\u001b[0m\u001b[0;34m.\u001b[0m\u001b[0msystem\u001b[0m\u001b[0;34m.\u001b[0m\u001b[0msch\u001b[0m\u001b[0;34m.\u001b[0m\u001b[0mbound\u001b[0m\u001b[0;34m=\u001b[0m\u001b[0mself\u001b[0m\u001b[0;34m.\u001b[0m\u001b[0mbound\u001b[0m\u001b[0;34m\u001b[0m\u001b[0;34m\u001b[0m\u001b[0m\n\u001b[0;32m---> 49\u001b[0;31m         \u001b[0mexec\u001b[0m\u001b[0;34m(\u001b[0m\u001b[0mself\u001b[0m\u001b[0;34m.\u001b[0m\u001b[0mfunc\u001b[0m\u001b[0;34m,\u001b[0m \u001b[0mcontext\u001b[0m\u001b[0;34m,\u001b[0m\u001b[0mself\u001b[0m\u001b[0;34m.\u001b[0m\u001b[0mbound\u001b[0m\u001b[0;34m)\u001b[0m\u001b[0;34m\u001b[0m\u001b[0;34m\u001b[0m\u001b[0m\n\u001b[0m\u001b[1;32m     50\u001b[0m \u001b[0;34m\u001b[0m\u001b[0m\n\u001b[1;32m     51\u001b[0m \u001b[0;34m\u001b[0m\u001b[0m\n",
            "\u001b[0;32m<production-look>\u001b[0m in \u001b[0;36m<module>\u001b[0;34m\u001b[0m\n",
            "\u001b[0;31mKeyboardInterrupt\u001b[0m: "
          ]
        }
      ],
      "source": [
        "kermit = FrogMind()                       # name the agent\n",
        "kermit.wait = time.sleep\n",
        "paradise_swamp = Pond()                   # name the environment\n",
        "paradise_swamp.clear = lambda: clear_output(wait=True)\n",
        "paradise_swamp.frog_body = frog_body      # put the frog's body in the environment\n",
        "paradise_swamp.agent = kermit             # put the frog's brain in the environment\n",
        "paradise_swamp.run()                      # Annnnd action!"
      ]
    }
  ],
  "metadata": {
    "colab": {
      "provenance": []
    },
    "kernelspec": {
      "display_name": "Python 3",
      "name": "python3"
    },
    "language_info": {
      "name": "python"
    }
  },
  "nbformat": 4,
  "nbformat_minor": 0
}