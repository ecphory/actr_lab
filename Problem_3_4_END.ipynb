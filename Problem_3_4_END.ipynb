{
  "cells": [
    {
      "cell_type": "markdown",
      "metadata": {
        "id": "lpG_7DDAWlUj"
      },
      "source": [
        "# Problem 3.4 END\n",
        "\n",
        "Now that our frog knows how to find and grab the key, it should use it to open the door. There are two cases it needs to think about: first, what to do when it has the key, and second, what to do when it doesn't.\n",
        "\n",
        "When the frog *has* the key, it will probably want to go looking for the door, and try to open it.\n",
        "\n",
        "When the frog *does not have the key*, it will probably want to ignore the door, lest it be distracted from the key search.\n",
        "\n",
        "We will teach it how to behave in two different ways when it sees the door."
      ]
    },
    {
      "cell_type": "markdown",
      "metadata": {
        "id": "1El9KwZsWdtR"
      },
      "source": [
        "### First, Install the Lab Libraries"
      ]
    },
    {
      "cell_type": "code",
      "execution_count": null,
      "metadata": {
        "colab": {
          "base_uri": "https://localhost:8080/"
        },
        "id": "U0ufN5NzV2rk",
        "outputId": "cd492d32-95c7-454e-c3f3-46adf3272fdb"
      },
      "outputs": [
        {
          "output_type": "stream",
          "name": "stdout",
          "text": [
            "Collecting git+https://github.com/eilene-ftf/pondworld.git\n",
            "  Cloning https://github.com/eilene-ftf/pondworld.git to /tmp/pip-req-build-c_py_on9\n",
            "  Running command git clone --filter=blob:none --quiet https://github.com/eilene-ftf/pondworld.git /tmp/pip-req-build-c_py_on9\n",
            "  Resolved https://github.com/eilene-ftf/pondworld.git to commit 7aa712ff4d7ad0034d2e95090831542552845893\n",
            "  Preparing metadata (setup.py) ... \u001b[?25l\u001b[?25hdone\n",
            "Collecting python_actr\n",
            "  Downloading python_actr-1.9.2.tar.gz (24 kB)\n",
            "  Preparing metadata (setup.py) ... \u001b[?25l\u001b[?25hdone\n",
            "Collecting gymnasium (from pondworld==0.0.38)\n",
            "  Downloading gymnasium-0.29.1-py3-none-any.whl.metadata (10 kB)\n",
            "Requirement already satisfied: numpy in /usr/local/lib/python3.10/dist-packages (from pondworld==0.0.38) (1.26.4)\n",
            "Collecting cairosvg (from pondworld==0.0.38)\n",
            "  Downloading CairoSVG-2.7.1-py3-none-any.whl.metadata (2.7 kB)\n",
            "Requirement already satisfied: opencv-python in /usr/local/lib/python3.10/dist-packages (from pondworld==0.0.38) (4.10.0.84)\n",
            "Collecting minigrid==2.1.1 (from pondworld==0.0.38)\n",
            "  Downloading minigrid-2.1.1-py3-none-any.whl.metadata (6.0 kB)\n",
            "Collecting tk (from pondworld==0.0.38)\n",
            "  Downloading tk-0.1.0-py3-none-any.whl.metadata (693 bytes)\n",
            "Collecting ipympl (from pondworld==0.0.38)\n",
            "  Downloading ipympl-0.9.4-py3-none-any.whl.metadata (8.7 kB)\n",
            "Requirement already satisfied: matplotlib>=3.0 in /usr/local/lib/python3.10/dist-packages (from minigrid==2.1.1->pondworld==0.0.38) (3.7.1)\n",
            "Requirement already satisfied: cloudpickle>=1.2.0 in /usr/local/lib/python3.10/dist-packages (from gymnasium->pondworld==0.0.38) (2.2.1)\n",
            "Requirement already satisfied: typing-extensions>=4.3.0 in /usr/local/lib/python3.10/dist-packages (from gymnasium->pondworld==0.0.38) (4.12.2)\n",
            "Collecting farama-notifications>=0.0.1 (from gymnasium->pondworld==0.0.38)\n",
            "  Downloading Farama_Notifications-0.0.4-py3-none-any.whl.metadata (558 bytes)\n",
            "Collecting cairocffi (from cairosvg->pondworld==0.0.38)\n",
            "  Downloading cairocffi-1.7.1-py3-none-any.whl.metadata (3.3 kB)\n",
            "Collecting cssselect2 (from cairosvg->pondworld==0.0.38)\n",
            "  Downloading cssselect2-0.7.0-py3-none-any.whl.metadata (2.9 kB)\n",
            "Requirement already satisfied: defusedxml in /usr/local/lib/python3.10/dist-packages (from cairosvg->pondworld==0.0.38) (0.7.1)\n",
            "Requirement already satisfied: pillow in /usr/local/lib/python3.10/dist-packages (from cairosvg->pondworld==0.0.38) (10.4.0)\n",
            "Requirement already satisfied: tinycss2 in /usr/local/lib/python3.10/dist-packages (from cairosvg->pondworld==0.0.38) (1.3.0)\n",
            "Requirement already satisfied: ipython-genutils in /usr/local/lib/python3.10/dist-packages (from ipympl->pondworld==0.0.38) (0.2.0)\n",
            "Requirement already satisfied: ipython<9 in /usr/local/lib/python3.10/dist-packages (from ipympl->pondworld==0.0.38) (7.34.0)\n",
            "Requirement already satisfied: ipywidgets<9,>=7.6.0 in /usr/local/lib/python3.10/dist-packages (from ipympl->pondworld==0.0.38) (7.7.1)\n",
            "Requirement already satisfied: traitlets<6 in /usr/local/lib/python3.10/dist-packages (from ipympl->pondworld==0.0.38) (5.7.1)\n",
            "Requirement already satisfied: setuptools>=18.5 in /usr/local/lib/python3.10/dist-packages (from ipython<9->ipympl->pondworld==0.0.38) (71.0.4)\n",
            "Collecting jedi>=0.16 (from ipython<9->ipympl->pondworld==0.0.38)\n",
            "  Using cached jedi-0.19.1-py2.py3-none-any.whl.metadata (22 kB)\n",
            "Requirement already satisfied: decorator in /usr/local/lib/python3.10/dist-packages (from ipython<9->ipympl->pondworld==0.0.38) (4.4.2)\n",
            "Requirement already satisfied: pickleshare in /usr/local/lib/python3.10/dist-packages (from ipython<9->ipympl->pondworld==0.0.38) (0.7.5)\n",
            "Requirement already satisfied: prompt-toolkit!=3.0.0,!=3.0.1,<3.1.0,>=2.0.0 in /usr/local/lib/python3.10/dist-packages (from ipython<9->ipympl->pondworld==0.0.38) (3.0.47)\n",
            "Requirement already satisfied: pygments in /usr/local/lib/python3.10/dist-packages (from ipython<9->ipympl->pondworld==0.0.38) (2.18.0)\n",
            "Requirement already satisfied: backcall in /usr/local/lib/python3.10/dist-packages (from ipython<9->ipympl->pondworld==0.0.38) (0.2.0)\n",
            "Requirement already satisfied: matplotlib-inline in /usr/local/lib/python3.10/dist-packages (from ipython<9->ipympl->pondworld==0.0.38) (0.1.7)\n",
            "Requirement already satisfied: pexpect>4.3 in /usr/local/lib/python3.10/dist-packages (from ipython<9->ipympl->pondworld==0.0.38) (4.9.0)\n",
            "Requirement already satisfied: ipykernel>=4.5.1 in /usr/local/lib/python3.10/dist-packages (from ipywidgets<9,>=7.6.0->ipympl->pondworld==0.0.38) (5.5.6)\n",
            "Requirement already satisfied: widgetsnbextension~=3.6.0 in /usr/local/lib/python3.10/dist-packages (from ipywidgets<9,>=7.6.0->ipympl->pondworld==0.0.38) (3.6.9)\n",
            "Requirement already satisfied: jupyterlab-widgets>=1.0.0 in /usr/local/lib/python3.10/dist-packages (from ipywidgets<9,>=7.6.0->ipympl->pondworld==0.0.38) (3.0.13)\n",
            "Requirement already satisfied: contourpy>=1.0.1 in /usr/local/lib/python3.10/dist-packages (from matplotlib>=3.0->minigrid==2.1.1->pondworld==0.0.38) (1.3.0)\n",
            "Requirement already satisfied: cycler>=0.10 in /usr/local/lib/python3.10/dist-packages (from matplotlib>=3.0->minigrid==2.1.1->pondworld==0.0.38) (0.12.1)\n",
            "Requirement already satisfied: fonttools>=4.22.0 in /usr/local/lib/python3.10/dist-packages (from matplotlib>=3.0->minigrid==2.1.1->pondworld==0.0.38) (4.53.1)\n",
            "Requirement already satisfied: kiwisolver>=1.0.1 in /usr/local/lib/python3.10/dist-packages (from matplotlib>=3.0->minigrid==2.1.1->pondworld==0.0.38) (1.4.7)\n",
            "Requirement already satisfied: packaging>=20.0 in /usr/local/lib/python3.10/dist-packages (from matplotlib>=3.0->minigrid==2.1.1->pondworld==0.0.38) (24.1)\n",
            "Requirement already satisfied: pyparsing>=2.3.1 in /usr/local/lib/python3.10/dist-packages (from matplotlib>=3.0->minigrid==2.1.1->pondworld==0.0.38) (3.1.4)\n",
            "Requirement already satisfied: python-dateutil>=2.7 in /usr/local/lib/python3.10/dist-packages (from matplotlib>=3.0->minigrid==2.1.1->pondworld==0.0.38) (2.8.2)\n",
            "Requirement already satisfied: cffi>=1.1.0 in /usr/local/lib/python3.10/dist-packages (from cairocffi->cairosvg->pondworld==0.0.38) (1.17.1)\n",
            "Requirement already satisfied: webencodings in /usr/local/lib/python3.10/dist-packages (from cssselect2->cairosvg->pondworld==0.0.38) (0.5.1)\n",
            "Requirement already satisfied: pycparser in /usr/local/lib/python3.10/dist-packages (from cffi>=1.1.0->cairocffi->cairosvg->pondworld==0.0.38) (2.22)\n",
            "Requirement already satisfied: jupyter-client in /usr/local/lib/python3.10/dist-packages (from ipykernel>=4.5.1->ipywidgets<9,>=7.6.0->ipympl->pondworld==0.0.38) (6.1.12)\n",
            "Requirement already satisfied: tornado>=4.2 in /usr/local/lib/python3.10/dist-packages (from ipykernel>=4.5.1->ipywidgets<9,>=7.6.0->ipympl->pondworld==0.0.38) (6.3.3)\n",
            "Requirement already satisfied: parso<0.9.0,>=0.8.3 in /usr/local/lib/python3.10/dist-packages (from jedi>=0.16->ipython<9->ipympl->pondworld==0.0.38) (0.8.4)\n",
            "Requirement already satisfied: ptyprocess>=0.5 in /usr/local/lib/python3.10/dist-packages (from pexpect>4.3->ipython<9->ipympl->pondworld==0.0.38) (0.7.0)\n",
            "Requirement already satisfied: wcwidth in /usr/local/lib/python3.10/dist-packages (from prompt-toolkit!=3.0.0,!=3.0.1,<3.1.0,>=2.0.0->ipython<9->ipympl->pondworld==0.0.38) (0.2.13)\n",
            "Requirement already satisfied: six>=1.5 in /usr/local/lib/python3.10/dist-packages (from python-dateutil>=2.7->matplotlib>=3.0->minigrid==2.1.1->pondworld==0.0.38) (1.16.0)\n",
            "Requirement already satisfied: notebook>=4.4.1 in /usr/local/lib/python3.10/dist-packages (from widgetsnbextension~=3.6.0->ipywidgets<9,>=7.6.0->ipympl->pondworld==0.0.38) (6.5.5)\n",
            "Requirement already satisfied: jinja2 in /usr/local/lib/python3.10/dist-packages (from notebook>=4.4.1->widgetsnbextension~=3.6.0->ipywidgets<9,>=7.6.0->ipympl->pondworld==0.0.38) (3.1.4)\n",
            "Requirement already satisfied: pyzmq<25,>=17 in /usr/local/lib/python3.10/dist-packages (from notebook>=4.4.1->widgetsnbextension~=3.6.0->ipywidgets<9,>=7.6.0->ipympl->pondworld==0.0.38) (24.0.1)\n",
            "Requirement already satisfied: argon2-cffi in /usr/local/lib/python3.10/dist-packages (from notebook>=4.4.1->widgetsnbextension~=3.6.0->ipywidgets<9,>=7.6.0->ipympl->pondworld==0.0.38) (23.1.0)\n",
            "Requirement already satisfied: jupyter-core>=4.6.1 in /usr/local/lib/python3.10/dist-packages (from notebook>=4.4.1->widgetsnbextension~=3.6.0->ipywidgets<9,>=7.6.0->ipympl->pondworld==0.0.38) (5.7.2)\n",
            "Requirement already satisfied: nbformat in /usr/local/lib/python3.10/dist-packages (from notebook>=4.4.1->widgetsnbextension~=3.6.0->ipywidgets<9,>=7.6.0->ipympl->pondworld==0.0.38) (5.10.4)\n",
            "Requirement already satisfied: nbconvert>=5 in /usr/local/lib/python3.10/dist-packages (from notebook>=4.4.1->widgetsnbextension~=3.6.0->ipywidgets<9,>=7.6.0->ipympl->pondworld==0.0.38) (6.5.4)\n",
            "Requirement already satisfied: nest-asyncio>=1.5 in /usr/local/lib/python3.10/dist-packages (from notebook>=4.4.1->widgetsnbextension~=3.6.0->ipywidgets<9,>=7.6.0->ipympl->pondworld==0.0.38) (1.6.0)\n",
            "Requirement already satisfied: Send2Trash>=1.8.0 in /usr/local/lib/python3.10/dist-packages (from notebook>=4.4.1->widgetsnbextension~=3.6.0->ipywidgets<9,>=7.6.0->ipympl->pondworld==0.0.38) (1.8.3)\n",
            "Requirement already satisfied: terminado>=0.8.3 in /usr/local/lib/python3.10/dist-packages (from notebook>=4.4.1->widgetsnbextension~=3.6.0->ipywidgets<9,>=7.6.0->ipympl->pondworld==0.0.38) (0.18.1)\n",
            "Requirement already satisfied: prometheus-client in /usr/local/lib/python3.10/dist-packages (from notebook>=4.4.1->widgetsnbextension~=3.6.0->ipywidgets<9,>=7.6.0->ipympl->pondworld==0.0.38) (0.21.0)\n",
            "Requirement already satisfied: nbclassic>=0.4.7 in /usr/local/lib/python3.10/dist-packages (from notebook>=4.4.1->widgetsnbextension~=3.6.0->ipywidgets<9,>=7.6.0->ipympl->pondworld==0.0.38) (1.1.0)\n",
            "Requirement already satisfied: platformdirs>=2.5 in /usr/local/lib/python3.10/dist-packages (from jupyter-core>=4.6.1->notebook>=4.4.1->widgetsnbextension~=3.6.0->ipywidgets<9,>=7.6.0->ipympl->pondworld==0.0.38) (4.3.6)\n",
            "Requirement already satisfied: notebook-shim>=0.2.3 in /usr/local/lib/python3.10/dist-packages (from nbclassic>=0.4.7->notebook>=4.4.1->widgetsnbextension~=3.6.0->ipywidgets<9,>=7.6.0->ipympl->pondworld==0.0.38) (0.2.4)\n",
            "Requirement already satisfied: lxml in /usr/local/lib/python3.10/dist-packages (from nbconvert>=5->notebook>=4.4.1->widgetsnbextension~=3.6.0->ipywidgets<9,>=7.6.0->ipympl->pondworld==0.0.38) (4.9.4)\n",
            "Requirement already satisfied: beautifulsoup4 in /usr/local/lib/python3.10/dist-packages (from nbconvert>=5->notebook>=4.4.1->widgetsnbextension~=3.6.0->ipywidgets<9,>=7.6.0->ipympl->pondworld==0.0.38) (4.12.3)\n",
            "Requirement already satisfied: bleach in /usr/local/lib/python3.10/dist-packages (from nbconvert>=5->notebook>=4.4.1->widgetsnbextension~=3.6.0->ipywidgets<9,>=7.6.0->ipympl->pondworld==0.0.38) (6.1.0)\n",
            "Requirement already satisfied: entrypoints>=0.2.2 in /usr/local/lib/python3.10/dist-packages (from nbconvert>=5->notebook>=4.4.1->widgetsnbextension~=3.6.0->ipywidgets<9,>=7.6.0->ipympl->pondworld==0.0.38) (0.4)\n",
            "Requirement already satisfied: jupyterlab-pygments in /usr/local/lib/python3.10/dist-packages (from nbconvert>=5->notebook>=4.4.1->widgetsnbextension~=3.6.0->ipywidgets<9,>=7.6.0->ipympl->pondworld==0.0.38) (0.3.0)\n",
            "Requirement already satisfied: MarkupSafe>=2.0 in /usr/local/lib/python3.10/dist-packages (from nbconvert>=5->notebook>=4.4.1->widgetsnbextension~=3.6.0->ipywidgets<9,>=7.6.0->ipympl->pondworld==0.0.38) (2.1.5)\n",
            "Requirement already satisfied: mistune<2,>=0.8.1 in /usr/local/lib/python3.10/dist-packages (from nbconvert>=5->notebook>=4.4.1->widgetsnbextension~=3.6.0->ipywidgets<9,>=7.6.0->ipympl->pondworld==0.0.38) (0.8.4)\n",
            "Requirement already satisfied: nbclient>=0.5.0 in /usr/local/lib/python3.10/dist-packages (from nbconvert>=5->notebook>=4.4.1->widgetsnbextension~=3.6.0->ipywidgets<9,>=7.6.0->ipympl->pondworld==0.0.38) (0.10.0)\n",
            "Requirement already satisfied: pandocfilters>=1.4.1 in /usr/local/lib/python3.10/dist-packages (from nbconvert>=5->notebook>=4.4.1->widgetsnbextension~=3.6.0->ipywidgets<9,>=7.6.0->ipympl->pondworld==0.0.38) (1.5.1)\n",
            "Requirement already satisfied: fastjsonschema>=2.15 in /usr/local/lib/python3.10/dist-packages (from nbformat->notebook>=4.4.1->widgetsnbextension~=3.6.0->ipywidgets<9,>=7.6.0->ipympl->pondworld==0.0.38) (2.20.0)\n",
            "Requirement already satisfied: jsonschema>=2.6 in /usr/local/lib/python3.10/dist-packages (from nbformat->notebook>=4.4.1->widgetsnbextension~=3.6.0->ipywidgets<9,>=7.6.0->ipympl->pondworld==0.0.38) (4.23.0)\n",
            "Requirement already satisfied: argon2-cffi-bindings in /usr/local/lib/python3.10/dist-packages (from argon2-cffi->notebook>=4.4.1->widgetsnbextension~=3.6.0->ipywidgets<9,>=7.6.0->ipympl->pondworld==0.0.38) (21.2.0)\n",
            "Requirement already satisfied: attrs>=22.2.0 in /usr/local/lib/python3.10/dist-packages (from jsonschema>=2.6->nbformat->notebook>=4.4.1->widgetsnbextension~=3.6.0->ipywidgets<9,>=7.6.0->ipympl->pondworld==0.0.38) (24.2.0)\n",
            "Requirement already satisfied: jsonschema-specifications>=2023.03.6 in /usr/local/lib/python3.10/dist-packages (from jsonschema>=2.6->nbformat->notebook>=4.4.1->widgetsnbextension~=3.6.0->ipywidgets<9,>=7.6.0->ipympl->pondworld==0.0.38) (2023.12.1)\n",
            "Requirement already satisfied: referencing>=0.28.4 in /usr/local/lib/python3.10/dist-packages (from jsonschema>=2.6->nbformat->notebook>=4.4.1->widgetsnbextension~=3.6.0->ipywidgets<9,>=7.6.0->ipympl->pondworld==0.0.38) (0.35.1)\n",
            "Requirement already satisfied: rpds-py>=0.7.1 in /usr/local/lib/python3.10/dist-packages (from jsonschema>=2.6->nbformat->notebook>=4.4.1->widgetsnbextension~=3.6.0->ipywidgets<9,>=7.6.0->ipympl->pondworld==0.0.38) (0.20.0)\n",
            "Requirement already satisfied: jupyter-server<3,>=1.8 in /usr/local/lib/python3.10/dist-packages (from notebook-shim>=0.2.3->nbclassic>=0.4.7->notebook>=4.4.1->widgetsnbextension~=3.6.0->ipywidgets<9,>=7.6.0->ipympl->pondworld==0.0.38) (1.24.0)\n",
            "Requirement already satisfied: soupsieve>1.2 in /usr/local/lib/python3.10/dist-packages (from beautifulsoup4->nbconvert>=5->notebook>=4.4.1->widgetsnbextension~=3.6.0->ipywidgets<9,>=7.6.0->ipympl->pondworld==0.0.38) (2.6)\n",
            "Requirement already satisfied: anyio<4,>=3.1.0 in /usr/local/lib/python3.10/dist-packages (from jupyter-server<3,>=1.8->notebook-shim>=0.2.3->nbclassic>=0.4.7->notebook>=4.4.1->widgetsnbextension~=3.6.0->ipywidgets<9,>=7.6.0->ipympl->pondworld==0.0.38) (3.7.1)\n",
            "Requirement already satisfied: websocket-client in /usr/local/lib/python3.10/dist-packages (from jupyter-server<3,>=1.8->notebook-shim>=0.2.3->nbclassic>=0.4.7->notebook>=4.4.1->widgetsnbextension~=3.6.0->ipywidgets<9,>=7.6.0->ipympl->pondworld==0.0.38) (1.8.0)\n",
            "Requirement already satisfied: idna>=2.8 in /usr/local/lib/python3.10/dist-packages (from anyio<4,>=3.1.0->jupyter-server<3,>=1.8->notebook-shim>=0.2.3->nbclassic>=0.4.7->notebook>=4.4.1->widgetsnbextension~=3.6.0->ipywidgets<9,>=7.6.0->ipympl->pondworld==0.0.38) (3.10)\n",
            "Requirement already satisfied: sniffio>=1.1 in /usr/local/lib/python3.10/dist-packages (from anyio<4,>=3.1.0->jupyter-server<3,>=1.8->notebook-shim>=0.2.3->nbclassic>=0.4.7->notebook>=4.4.1->widgetsnbextension~=3.6.0->ipywidgets<9,>=7.6.0->ipympl->pondworld==0.0.38) (1.3.1)\n",
            "Requirement already satisfied: exceptiongroup in /usr/local/lib/python3.10/dist-packages (from anyio<4,>=3.1.0->jupyter-server<3,>=1.8->notebook-shim>=0.2.3->nbclassic>=0.4.7->notebook>=4.4.1->widgetsnbextension~=3.6.0->ipywidgets<9,>=7.6.0->ipympl->pondworld==0.0.38) (1.2.2)\n",
            "Downloading minigrid-2.1.1-py3-none-any.whl (100 kB)\n",
            "\u001b[2K   \u001b[90m━━━━━━━━━━━━━━━━━━━━━━━━━━━━━━━━━━━━━━━━\u001b[0m \u001b[32m100.3/100.3 kB\u001b[0m \u001b[31m3.0 MB/s\u001b[0m eta \u001b[36m0:00:00\u001b[0m\n",
            "\u001b[?25hDownloading gymnasium-0.29.1-py3-none-any.whl (953 kB)\n",
            "\u001b[2K   \u001b[90m━━━━━━━━━━━━━━━━━━━━━━━━━━━━━━━━━━━━━━━━\u001b[0m \u001b[32m953.9/953.9 kB\u001b[0m \u001b[31m25.5 MB/s\u001b[0m eta \u001b[36m0:00:00\u001b[0m\n",
            "\u001b[?25hDownloading CairoSVG-2.7.1-py3-none-any.whl (43 kB)\n",
            "\u001b[2K   \u001b[90m━━━━━━━━━━━━━━━━━━━━━━━━━━━━━━━━━━━━━━━━\u001b[0m \u001b[32m43.2/43.2 kB\u001b[0m \u001b[31m2.5 MB/s\u001b[0m eta \u001b[36m0:00:00\u001b[0m\n",
            "\u001b[?25hDownloading ipympl-0.9.4-py3-none-any.whl (516 kB)\n",
            "\u001b[2K   \u001b[90m━━━━━━━━━━━━━━━━━━━━━━━━━━━━━━━━━━━━━━━━\u001b[0m \u001b[32m516.3/516.3 kB\u001b[0m \u001b[31m20.6 MB/s\u001b[0m eta \u001b[36m0:00:00\u001b[0m\n",
            "\u001b[?25hDownloading tk-0.1.0-py3-none-any.whl (3.9 kB)\n",
            "Downloading Farama_Notifications-0.0.4-py3-none-any.whl (2.5 kB)\n",
            "Downloading cairocffi-1.7.1-py3-none-any.whl (75 kB)\n",
            "\u001b[2K   \u001b[90m━━━━━━━━━━━━━━━━━━━━━━━━━━━━━━━━━━━━━━━━\u001b[0m \u001b[32m75.6/75.6 kB\u001b[0m \u001b[31m5.0 MB/s\u001b[0m eta \u001b[36m0:00:00\u001b[0m\n",
            "\u001b[?25hDownloading cssselect2-0.7.0-py3-none-any.whl (15 kB)\n",
            "Using cached jedi-0.19.1-py2.py3-none-any.whl (1.6 MB)\n",
            "Building wheels for collected packages: python_actr, pondworld\n",
            "  Building wheel for python_actr (setup.py) ... \u001b[?25l\u001b[?25hdone\n",
            "  Created wheel for python_actr: filename=python_actr-1.9.2-py3-none-any.whl size=30909 sha256=aaeb25585f6c19c8ecd2d6e7d237d47df91d9d58a7ff11bc602e1e788c4b49cf\n",
            "  Stored in directory: /root/.cache/pip/wheels/2b/c2/c0/e88f93d8a8b9a05de27e7d961f8a22dc85ca86a45b3ae039c9\n",
            "  Building wheel for pondworld (setup.py) ... \u001b[?25l\u001b[?25hdone\n",
            "  Created wheel for pondworld: filename=pondworld-0.0.38-py3-none-any.whl size=24137 sha256=037e8b47b8cf6acb626352d4c5340de67511ab36187b198ea940468cb10bbb69\n",
            "  Stored in directory: /tmp/pip-ephem-wheel-cache-hsez3oub/wheels/55/9b/fa/96e11bd48f313875f26950a75f9bf1c942647028c798d8b3ff\n",
            "Successfully built python_actr pondworld\n",
            "Installing collected packages: tk, python_actr, farama-notifications, jedi, gymnasium, cssselect2, cairocffi, minigrid, cairosvg, ipympl, pondworld\n",
            "Successfully installed cairocffi-1.7.1 cairosvg-2.7.1 cssselect2-0.7.0 farama-notifications-0.0.4 gymnasium-0.29.1 ipympl-0.9.4 jedi-0.19.1 minigrid-2.1.1 pondworld-0.0.38 python_actr-1.9.2 tk-0.1.0\n"
          ]
        }
      ],
      "source": [
        "%pip install python_actr git+https://github.com/eilene-ftf/pondworld.git"
      ]
    },
    {
      "cell_type": "markdown",
      "metadata": {
        "id": "GGUIKISlW2r6"
      },
      "source": [
        "### Second, Import the Necessary Libraries"
      ]
    },
    {
      "cell_type": "code",
      "execution_count": null,
      "metadata": {
        "id": "M7q5qVRDW-ff"
      },
      "outputs": [],
      "source": [
        "import gymnasium as gym\n",
        "from minigrid.minigrid_env import MiniGridEnv\n",
        "\n",
        "import pondworld\n",
        "from pondworld import FrogControl, EnvState\n",
        "\n",
        "from python_actr import Model, ACTR, Buffer, Memory, log_everything\n",
        "\n",
        "from IPython.display import clear_output\n",
        "\n",
        "import time"
      ]
    },
    {
      "cell_type": "markdown",
      "metadata": {
        "id": "T15Dbre3XDLI"
      },
      "source": [
        "### The Pond\n",
        "\n",
        "**Don't forget to run this bit!**"
      ]
    },
    {
      "cell_type": "code",
      "execution_count": null,
      "metadata": {
        "id": "5nWnNQhsbHN4"
      },
      "outputs": [],
      "source": [
        "class Pond(Model):\n",
        "    pass"
      ]
    },
    {
      "cell_type": "markdown",
      "metadata": {
        "id": "oe6CuXp0bNWy"
      },
      "source": [
        "### The Frog\n",
        "\n",
        "Now that you're comfortable with the mental world of the frog, we're going to try to tell the frog what to do about getting into that pantry. The door is locked, and our frog's left a key somewhere around the house. As it cannot open the door without a key, the first thing to do is get the key. Once it has the key, the next job is opening the door, so it can get in and eat the flies. Try running the code first to see what's happening in the frog's world, and then go look at your task."
      ]
    },
    {
      "cell_type": "code",
      "execution_count": null,
      "metadata": {
        "id": "BAaiGpAsb-t9"
      },
      "outputs": [],
      "source": [
        "# create our frog's brain\n",
        "class FrogMind(ACTR):\n",
        "    # give our frog a buffer that holds information\n",
        "    # let's call this buffer \"vision\". it represents what the frog is seeing.\n",
        "    vision=Buffer()\n",
        "\n",
        "    # here we're going to set what the frog is seeing right at the moment\n",
        "    # initially we don't know what the frog is looking at\n",
        "    vision.set('unknown')\n",
        "\n",
        "    # \"possibilities\" has been replaced with a set of slot names, corresponding\n",
        "    # to the three items the frog might track in its world, and a set of values,\n",
        "    # corresponding to what states those items might be in\n",
        "    slots = [\"fly\", \"key\", \"door\"]\n",
        "    values = [\"nowhere\", \"here\", \"ahead\", \"left\", \"right\", \"held\"]\n",
        "\n",
        "    # also, we're keeping track of all the things the frog can do\n",
        "    # you never know when you might need them\n",
        "    actions = [\"forward\", \"left\", \"right\", \"interact\", \"pickup\"]\n",
        "\n",
        "    ######\n",
        "    # THE BASICS\n",
        "\n",
        "    # look to see if there's any flies\n",
        "    def look(vision='unknown'):\n",
        "        self.wait(0.3) # adds a rest between steps so we can see what's going on\n",
        "        self.parent.clear() # makes sure only the most recent output is shown\n",
        "        observation = self.parent.frog_body.look()  # now, when it looks,\n",
        "                                                    # the frog will get a\n",
        "                                                    # collection of several\n",
        "                                                    # items\n",
        "\n",
        "        # This creates a list of 'slot:value' pairs, using what's\n",
        "        # contained in observation\n",
        "        new_memory = []\n",
        "        for slot in slots:\n",
        "            val_index = observation[slot]   # gets a number indicating the state\n",
        "                                            # of the object called 'slot'\n",
        "            value = values[val_index]       # then looks it up\n",
        "            new_memory.append(f'{slot}:{value}') # and adds it to\n",
        "\n",
        "        updated = ' '.join(new_memory)  # make the contents of new_memory into a\n",
        "                                        # string ACT-R can understand\n",
        "        print('what the frog sees: \\n  ' + updated)\n",
        "        vision.set(updated)\n",
        "\n",
        "    # if you see a fly, eat a fly\n",
        "    def eat_fly(vision='fly:here'):\n",
        "        print(\"The frog spits out its tongue and snaps up the fly.\")\n",
        "        result = self.parent.frog_body.move(\"interact\")\n",
        "        if result.terminated:\n",
        "          vision.set('done') # the frog has satisfied its hunger\n",
        "        else:\n",
        "          vision.set('unknown')\n",
        "\n",
        "    ######\n",
        "    # EXPLORATION\n",
        "\n",
        "    # if you don't see a fly trying looking left\n",
        "    def explore_left(vision=\"fly:nowhere key:nowhere\"):\n",
        "        print(\"The frog explores left.\")\n",
        "        self.parent.frog_body.move(\"left\")\n",
        "        vision.set('unknown')\n",
        "\n",
        "    # if you don't see a fly try hopping forward\n",
        "    def explore_forward(vision=\"fly:nowhere key:nowhere\"):\n",
        "        print(\"The frog explores forward.\")\n",
        "        self.parent.frog_body.move(\"forward\")\n",
        "        vision.set('unknown')\n",
        "\n",
        "    # PUT TWO MORE PRODUCTIONS HERE\n",
        "\n",
        "    ######\n",
        "    # CHASE THE FLY\n",
        "\n",
        "    # if fly is to the left, turn left\n",
        "    def turn_left_fly(vision=\"fly:left\"):\n",
        "        print(\"The frog turns left.\")\n",
        "        self.parent.frog_body.move(\"left\")\n",
        "        vision.set('unknown')\n",
        "\n",
        "    # if fly is to the right, turn right\n",
        "    def turn_right_fly(vision=\"fly:right\"):\n",
        "        print(\"The frog turns right.\")\n",
        "        self.parent.frog_body.move(\"right\")\n",
        "        vision.set('unknown')\n",
        "\n",
        "    # if you see something in the distance trying hopping forward\n",
        "    def hop_forward_fly(vision=\"fly:ahead\"):\n",
        "        print(\"The frog hops forward.\")\n",
        "        self.parent.frog_body.move(\"forward\")\n",
        "        vision.set('unknown')\n",
        "\n",
        "    ######\n",
        "    # GRAB A KEY\n",
        "\n",
        "    # if you see a key, pick it up\n",
        "    def pickup_key(vision='key:here'):\n",
        "        print('The frog picks up the key to the pantry.')\n",
        "        self.parent.frog_body.move('pickup')\n",
        "        vision.set('unknown')\n",
        "\n",
        "    # if fly is to the left, turn left\n",
        "    def turn_left_key(vision=\"key:left\"):\n",
        "        print(\"The frog turns left.\")\n",
        "        self.parent.frog_body.move(\"left\")\n",
        "        vision.set('unknown')\n",
        "\n",
        "    # if fly is to the right, turn right\n",
        "    def turn_right_key(vision=\"key:right\"):\n",
        "        print(\"The frog turns right.\")\n",
        "        self.parent.frog_body.move(\"right\")\n",
        "        vision.set('unknown')\n",
        "\n",
        "    # if you see something in the distance trying hopping forward\n",
        "    def hop_forward_key(vision=\"key:ahead\"):\n",
        "        print(\"The frog hops forward.\")\n",
        "        self.parent.frog_body.move(\"forward\")\n",
        "        vision.set('unknown')\n",
        "\n",
        "    ######\n",
        "    # GO TO DOOR - PUT FOUR PRODUCTIONS HERE\n",
        "\n",
        "    ######\n",
        "    # END STATE\n",
        "\n",
        "    # when all the flies are eaten, it's time to stop and rest\n",
        "    def end(vision='done'):\n",
        "        print(\"The frog is full.\")\n",
        "        self.stop()"
      ]
    },
    {
      "cell_type": "markdown",
      "metadata": {
        "id": "JBSON9LphA-b"
      },
      "source": [
        "### Your Task\n",
        "\n",
        "What happens now may have surprised you! As soon as the frog picks up the key, it gets confused and gives up. Clearly, this isn't the outcome it wanted, so we need to teach it what to do when it is holding the key.\n",
        "\n",
        "**Your job is to write six more productions**.\n",
        "\n",
        "**Two** of them will describe how the frog behaves when it is holding the key, but does not see a door. **They should mimic the existing exploration behaviour**. We want the frog to look around for the door.\n",
        "\n",
        "**Four** more productions will describe what happens when the frog is holding the key and sees the door. **They should be based on what the frog does when it sees a fly**.\n",
        "\n",
        "One of the four productions should **open the door**. To open the door use:\n",
        "```python\n",
        "        self.parent.frog_body.move('interact')\n",
        "```\n",
        "\n",
        "**All of these productions must be designed so that they only fire when the frog is holding the key**. We want to make sure the frog isn't distracted by trying to go into the pantry when it isn't able to. **How do you need to change their conditions in order to make that happen**?\n",
        "\n",
        "You may notice the frog opening the door and then immediately turning around and walking away. This behaviour can be mitigated by having the frog take an extra hop forward as part of the same production rule that opens the door.\n",
        "\n",
        "**Your second job is to answer these two short-answer questions**. (Write no more than two or three sentences)."
      ]
    },
    {
      "cell_type": "markdown",
      "metadata": {
        "id": "qzWZm8ZmMwzJ"
      },
      "source": [
        "### Questions"
      ]
    },
    {
      "cell_type": "markdown",
      "metadata": {
        "id": "qYLpkkYAaa4A"
      },
      "source": [
        "#### Question 1\n",
        "\n",
        "Based on your readings and your understanding so far, what could be done to the frog to make it a better ACT-R model? Are there details about the philosophy of ACT-R or the implementation of the frog that are lacking?  Write your answer below the break by double clicking this box.\n",
        "\n",
        "\n",
        "---"
      ]
    },
    {
      "cell_type": "markdown",
      "metadata": {
        "id": "xSklWQZVacdL"
      },
      "source": [
        "#### Question 2\n",
        "\n",
        "After completing each exercise, the next notebook contained the solutions to the one preceding it. Did you notice any mistakes in your work? Something you still don't understand? What were they?\n",
        "\n",
        "---"
      ]
    },
    {
      "cell_type": "markdown",
      "metadata": {
        "id": "mXugZ4jkhiFl"
      },
      "source": [
        "### Run Your Model\n",
        "\n",
        "Make sure everything works by running the code blocks below."
      ]
    },
    {
      "cell_type": "code",
      "execution_count": null,
      "metadata": {
        "id": "RFlGmKZ0hrSt",
        "colab": {
          "base_uri": "https://localhost:8080/"
        },
        "outputId": "5bab33ef-74a7-4cb0-c87c-b7ce3314ecc8"
      },
      "outputs": [
        {
          "output_type": "stream",
          "name": "stderr",
          "text": [
            "/usr/local/lib/python3.10/dist-packages/gymnasium/core.py:311: UserWarning: \u001b[33mWARN: env.gen_obs to get variables from other wrappers is deprecated and will be removed in v1.0, to get this variable you can do `env.unwrapped.gen_obs` for environment variables or `env.get_wrapper_attr('gen_obs')` that will search the reminding wrappers.\u001b[0m\n",
            "  logger.warn(\n",
            "/usr/local/lib/python3.10/dist-packages/gymnasium/core.py:311: UserWarning: \u001b[33mWARN: env.mission to get variables from other wrappers is deprecated and will be removed in v1.0, to get this variable you can do `env.unwrapped.mission` for environment variables or `env.get_wrapper_attr('mission')` that will search the reminding wrappers.\u001b[0m\n",
            "  logger.warn(\n"
          ]
        }
      ],
      "source": [
        "# Sets up the frog's virtual world\n",
        "env = gym.make(\"house-v0\", tile_size=32, render_mode='rgb_array')\n",
        "# Gives the frog a body in it\n",
        "frog_body = FrogControl(env, textmode=True, emojis=True)\n",
        "# Gets things going!\n",
        "frog_body.start()"
      ]
    },
    {
      "cell_type": "code",
      "execution_count": null,
      "metadata": {
        "colab": {
          "base_uri": "https://localhost:8080/"
        },
        "id": "FUfNRSyJh8ww",
        "outputId": "37f60189-4a82-44d2-db5f-f9eadada47e3"
      },
      "outputs": [
        {
          "output_type": "stream",
          "name": "stdout",
          "text": [
            "🧱🧱🧱🧱🧱🧱🧱🧱🧱🧱🧱🧱🧱🧱🧱🧱    \n",
            "🧱⬛⬛⬛⬛⬛⬛⬛🧱⬛⬛⬛⬛⬛⬛🧱    \n",
            "🧱⬛⬛⬛⬛⬛⬛⬛🧱⬛⬛⬛⬛⬛⬛🧱    \n",
            "🧱⬛⬛⬛⬛⬛⬛⬛🧱⬛⬛⬛⬛⬛⬛🧱    \n",
            "🧱⬛⬛⬛⬛⬛⬛⬛🧱⬛⬛⬛⬛⬛⬛🧱    \n",
            "🧱⬛⬛⬛⬛⬛⬛⬛🧱⬛⬛⬛⬛⬛⬛🧱    viewfinder:\n",
            "🧱⬛⬛⬛⬛⬛⬛⬛🧱⬛⬛⬛⬛⬛⬛🧱    viewfinder:\n",
            "🧱⬛⬛⬛⬛⬛⬛⬛🧱⬛⬛⬛⬛⬛⬛🧱    🪰⬜⬛⬛🗝️🟨⬛\n",
            "🧱⬛⬛⬛⬛⬛⬛⬛🧱⬛⬛⬛⬛⬛⬛🧱    live frog reaction:\n",
            "🧱⬛⬛⬛🟨🟨🟨🟨🧱🟨🟨⬛⬛⬛⬛🧱    🧱🟨🟨🟨🟨🟨🟨\n",
            "🧱⬛⬛⬛🟨🟨🟨🟨🧱🟨🟨⬛⬛⬛⬛🧱    🧱🟨🟨🟨🟨🟨🟨\n",
            "🧱⬛⬛⬛🟨🟨🟨🟨🧱🟨🟨⬛⬛⬛⬛🧱    🧱🚪🧱🧱🧱🧱🧱\n",
            "🧱⬛⬛⬛🐸🪰🟨🟨🧱🟨🟨⬛⬛⬛⬛🧱    🧱🟨🟨🟨🟨🟨🟨\n",
            "🧱⬛⬛⬛🟨🟨🟨🟨🧱🟨🟨⬛⬛⬛⬛🧱    🧱🟨🟨🟨🟨🟨🟨\n",
            "🧱⬛⬛⬛🟨🟨🟨🟨🚪🟨🟨⬛⬛⬛⬛🧱    🧱🟨🟨🪰🟨🟨🟨\n",
            "🧱🧱🧱🧱🧱🧱🧱🧱🧱🧱🧱🧱🧱🧱🧱🧱    🧱🟨🟨🐸🟨🟨🟨\n",
            "eat all the flies\n",
            "frog compass: ➡️\n",
            "what the frog sees: \n",
            "  fly:here key:held door:ahead\n",
            "The frog spits out its tongue and snaps up the fly.\n",
            "The frog is full.\n"
          ]
        }
      ],
      "source": [
        "kermit = FrogMind()                       # name the agent\n",
        "kermit.wait = time.sleep\n",
        "paradise_swamp = Pond()                   # name the environment\n",
        "paradise_swamp.clear = lambda: clear_output(wait=True)\n",
        "paradise_swamp.frog_body = frog_body      # put the frog's body in the environment\n",
        "paradise_swamp.agent = kermit             # put the frog's brain in the environment\n",
        "paradise_swamp.run()                      # Annnnd action!"
      ]
    }
  ],
  "metadata": {
    "colab": {
      "provenance": []
    },
    "kernelspec": {
      "display_name": "Python 3",
      "name": "python3"
    },
    "language_info": {
      "name": "python"
    }
  },
  "nbformat": 4,
  "nbformat_minor": 0
}