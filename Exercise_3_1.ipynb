{
  "nbformat": 4,
  "nbformat_minor": 0,
  "metadata": {
    "colab": {
      "provenance": []
    },
    "kernelspec": {
      "name": "python3",
      "display_name": "Python 3"
    },
    "language_info": {
      "name": "python"
    }
  },
  "cells": [
    {
      "cell_type": "markdown",
      "source": [
        "This installs Python ACT-R on the cloud"
      ],
      "metadata": {
        "id": "M0jYW5YXfWRV"
      }
    },
    {
      "cell_type": "code",
      "execution_count": null,
      "metadata": {
        "colab": {
          "base_uri": "https://localhost:8080/"
        },
        "id": "Wdw2suo1edgy",
        "outputId": "f58e6de6-d343-45ce-d3f2-2658eb051eab"
      },
      "outputs": [
        {
          "output_type": "stream",
          "name": "stdout",
          "text": [
            "Requirement already satisfied: python_actr in /usr/local/lib/python3.10/dist-packages (1.9.2)\n"
          ]
        }
      ],
      "source": [
        "%pip install python_actr"
      ]
    },
    {
      "cell_type": "markdown",
      "source": [
        "This imports Python ACT-R into Python (which is already in the cloud)"
      ],
      "metadata": {
        "id": "wmJjtpOjgluo"
      }
    },
    {
      "cell_type": "code",
      "source": [
        "from python_actr import Model, ACTR, Buffer, log_everything"
      ],
      "metadata": {
        "id": "i-2BeGhOf5fs"
      },
      "execution_count": null,
      "outputs": []
    },
    {
      "cell_type": "markdown",
      "source": [
        "Today we're going to create an ACT-R model of a frog. The frog needs to have a mind or brain. We're going to program that using ACT-R. ACT-R's procedural memory is an expert system or production system, like we've discussed in class.\n",
        "\n",
        "In addition to having a mind, our frog needs a place to live. This code block creates an environment. So let's call this environment \"Pond\". In this case there is nothing in the environment but we still need it."
      ],
      "metadata": {
        "id": "Kykz-RgNth2e"
      }
    },
    {
      "cell_type": "code",
      "source": [
        "class Pond(Model):\n",
        "    pass"
      ],
      "metadata": {
        "id": "JIhoOof0saVL"
      },
      "execution_count": null,
      "outputs": []
    },
    {
      "cell_type": "markdown",
      "source": [
        "This creates an ACT-R agent that will be our frog."
      ],
      "metadata": {
        "id": "4gMj35Vetup7"
      }
    },
    {
      "cell_type": "code",
      "source": [
        "# create our frog\n",
        "class Frog(ACTR):\n",
        "\n",
        "    # give our frog a buffer that holds information\n",
        "    # let's call this buffer \"vision\". it represents what the frog is seeing.\n",
        "    vision=Buffer()\n",
        "\n",
        "    # here we're going to set what the frog is seeing right at the moment\n",
        "    vision.set('nothing')\n",
        "\n",
        "    # here we create a production rule\n",
        "    # it looks a lot like a function definition\n",
        "    # but this function definition is special:\n",
        "    # when the vision buffer has a fly in it, that is, when the frog sees a fly\n",
        "    # this production will \"fire\" and do everything indented under the definiton\n",
        "    def see_food(vision='fly'):\n",
        "\n",
        "        # PLEASE REPLACE THE QUOTED TEXT BELOW\n",
        "        # change it to what you want your frog to do when it sees a fly\n",
        "        print(\"REPLACE THIS TEXT WITH WHAT A FROG DOES WHEN IT SEES A FLY\")"
      ],
      "metadata": {
        "id": "iRZkxzwgfUdk"
      },
      "execution_count": null,
      "outputs": []
    },
    {
      "cell_type": "markdown",
      "source": [
        "This code creates an ACTR agent that is a frog and puts it into a pond environment. Let's name our frog Kermit. Let's name our environment Paradise Swamp (that's Kermit's home). We need to put Kermit in Paradise Swamp.\n",
        "\n",
        "Then last but not least, we need to `run` our model in order for anything to happen. Before that, our actor is just on the set, waiting for the director to shout \"Action!\""
      ],
      "metadata": {
        "id": "b-vW0zV7t8X_"
      }
    },
    {
      "cell_type": "code",
      "source": [
        "kermit         = Frog()                  # name the agent\n",
        "paradise_swamp = Pond()                  # name the environment\n",
        "paradise_swamp.agent = kermit            # put the agent in the environment\n",
        "log_everything(paradise_swamp)           # record everything that happens\n",
        "paradise_swamp.run()                     # Annnnd action!"
      ],
      "metadata": {
        "colab": {
          "base_uri": "https://localhost:8080/"
        },
        "id": "nebnsvVAslN-",
        "outputId": "8ec028cc-256f-444f-ce36-e96aed40c69b"
      },
      "execution_count": null,
      "outputs": [
        {
          "output_type": "stream",
          "name": "stdout",
          "text": [
            "   0.050 agent.production_match_delay 0\n",
            "   0.050 agent.production_threshold None\n",
            "   0.050 agent.production_time 0.05\n",
            "   0.050 agent.production_time_sd None\n"
          ]
        }
      ]
    },
    {
      "cell_type": "markdown",
      "source": [
        "Go to the `Runtime` menu above and click `Run all`. You should see the following output:\n",
        "\n",
        "```\n",
        "   0.000 agent.production_match_delay 0\n",
        "   0.000 agent.production_threshold None\n",
        "   0.000 agent.production_time 0.05\n",
        "   0.000 agent.production_time_sd None\n",
        "```\n",
        "\n",
        "Not much of anything is happening here. The frog isn't doing anything. How can we make the frog do something?\n",
        "\n",
        "Let's try modifying the Frog above. Try changing the frog's `vision` buffer from seeing `nothing` to seeing a `fly`. Click `Run all` again. What happens?\n",
        "\n",
        "**OH NO. Quick, click the stop button!**\n",
        "\n",
        "So what happens is now that the frog can see the fly and it eats the fly over and over again. It never stops eating the fly because we never remove the fly from its vision. Let's go back and fix that.\n",
        "\n",
        "Add the following line of code inside of the `see_food` production, indented so it is has **the same level of identation** as the print statement where the frog eats the fly:\n",
        "\n",
        "```\n",
        "        vision.set('nothing')\n",
        "```\n",
        "\n",
        "Once you've done that, click `Run all` again. What happens?\n",
        "\n",
        "You should see something like the following:\n",
        "\n",
        "```\n",
        "   0.050 agent.production_match_delay 0\n",
        "   0.050 agent.production_threshold None\n",
        "   0.050 agent.production_time 0.05\n",
        "   0.050 agent.production_time_sd None\n",
        "   0.050 agent.production see_food\n",
        "   0.050 agent.production None\n",
        "Frog spits out its tongue and eats the fly.\n",
        "   0.050 agent.vision.chunk nothing\n",
        "```"
      ],
      "metadata": {
        "id": "2RjRUxCzy-T4"
      }
    },
    {
      "cell_type": "markdown",
      "source": [
        "Success! The frog is eating the fly."
      ],
      "metadata": {
        "id": "17U3zdzWzHlO"
      }
    },
    {
      "cell_type": "code",
      "source": [
        "paradise_swamp.run()"
      ],
      "metadata": {
        "id": "Mrkgbs4QQkNo"
      },
      "execution_count": null,
      "outputs": []
    }
  ]
}